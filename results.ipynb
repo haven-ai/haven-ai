{
 "cells": [
  {
   "cell_type": "code",
   "execution_count": 5,
   "id": "accurate-aberdeen",
   "metadata": {},
   "outputs": [],
   "source": [
    "\n",
    "\n",
    "from haven import haven_results as hr\n",
    "from haven import haven_utils as hu\n",
    "\n",
    "# path to where the experiments got saved\n",
    "savedir_base = '/mnt/home/projects/haven-ai/results'\n",
    "exp_list = None\n",
    "\n",
    "# get experiments from the exp config\n",
    "exp_config_fname = None\n",
    "if exp_config_fname:\n",
    "    config = hu.load_py(exp_config_fname)\n",
    "    exp_list = []\n",
    "    for exp_group in [\n",
    "        \"example\"\n",
    "                    ]:\n",
    "        exp_list += config.EXP_GROUPS[exp_group]\n",
    "\n",
    "# filter exps\n",
    "\n",
    "filterby_list = None\n",
    "# filterby_list =[{'dataset':'mnist'}]\n",
    "\n",
    "# get experiments\n",
    "rm = hr.ResultManager(exp_list=exp_list,\n",
    "                      savedir_base=savedir_base,\n",
    "                      filterby_list=filterby_list,\n",
    "                      verbose=0,\n",
    "                      exp_groups=None,\n",
    "                      job_scheduler='slurm'\n",
    "                     )\n",
    "\n",
    "# specify display parameters\n",
    "\n",
    "# groupby_list = ['dataset']\n",
    "# title_list = ['dataset']\n",
    "# legend_list = ['model']\n",
    "y_metrics = ['loss']\n",
    "x_metric = 'epoch'\n"
   ]
  },
  {
   "cell_type": "code",
   "execution_count": 13,
   "id": "dress-interpretation",
   "metadata": {},
   "outputs": [
    {
     "data": {
      "image/png": "[encoded data removed]",
      "text/plain": [
       "<Figure size 432x288 with 1 Axes>"
      ]
     },
     "metadata": {
      "needs_background": "light"
     },
     "output_type": "display_data"
    }
   ],
   "source": [
    "\n",
    "# get table \n",
    "rm.get_score_df().head()\n",
    "\n",
    "# get latex \n",
    "# print(rm.get_latex_table(legend=['dataset'], metrics=['train_loss'], decimals=1, caption=\"Results\", label='tab:results'))\n",
    "\n",
    "# get custom plots\n",
    "fig = rm.get_plot_all(\n",
    "                # order='metrics_by_groups',\n",
    "                # avg_across='runs',\n",
    "                y_metric_list=y_metrics, \n",
    "                x_metric=x_metric,\n",
    "                # legend_fontsize=18,\n",
    "                # x_fontsize=20,\n",
    "                # y_fontsize=20,\n",
    "                # xtick_fontsize=20,\n",
    "                # ytick_fontsize=20,\n",
    "                # title_fontsize=24,\n",
    "                legend_list=['dataset'], \n",
    "                map_legend_list={'syn':'werew'},\n",
    "                # title_list = ['dataset'], \n",
    "                # title_format='Dataset:{}',\n",
    "                # log_metric_list = ['train_loss'], \n",
    "                # groupby_list = ['dataset'],\n",
    "                # map_ylabel_list=[{'train_loss':'Train loss'}],\n",
    "                # map_xlabel_list=[{'epoch':'Epoch'}],\n",
    "                # figsize=(15,5),\n",
    "                # plot_confidence=False,\n",
    "                # savedir_plots='%s' % (name)\n",
    ")\n",
    "          "
   ]
  },
  {
   "cell_type": "code",
   "execution_count": 4,
   "id": "6a3eb5ce",
   "metadata": {},
   "outputs": [
    {
     "data": {
      "text/html": [
       "<div>\n",
       "<style scoped>\n",
       "    .dataframe tbody tr th:only-of-type {\n",
       "        vertical-align: middle;\n",
       "    }\n",
       "\n",
       "    .dataframe tbody tr th {\n",
       "        vertical-align: top;\n",
       "    }\n",
       "\n",
       "    .dataframe thead th {\n",
       "        text-align: right;\n",
       "    }\n",
       "</style>\n",
       "<table border=\"1\" class=\"dataframe\">\n",
       "  <thead>\n",
       "    <tr style=\"text-align: right;\">\n",
       "      <th></th>\n",
       "      <th>started_at</th>\n",
       "      <th>model</th>\n",
       "      <th>lr</th>\n",
       "      <th>dataset</th>\n",
       "      <th>epoch</th>\n",
       "      <th>loss</th>\n",
       "      <th>loss (max)</th>\n",
       "      <th>loss (min)</th>\n",
       "      <th>acc</th>\n",
       "      <th>acc (max)</th>\n",
       "      <th>acc (min)</th>\n",
       "    </tr>\n",
       "  </thead>\n",
       "  <tbody>\n",
       "    <tr>\n",
       "      <th>0</th>\n",
       "      <td>'06:50 PM (Aug 21)'</td>\n",
       "      <td>'linear'</td>\n",
       "      <td>1.0000</td>\n",
       "      <td>'syn'</td>\n",
       "      <td>3</td>\n",
       "      <td>47994.789062</td>\n",
       "      <td>213817.625000</td>\n",
       "      <td>0.000000</td>\n",
       "      <td>NaN</td>\n",
       "      <td>NaN</td>\n",
       "      <td>NaN</td>\n",
       "    </tr>\n",
       "    <tr>\n",
       "      <th>1</th>\n",
       "      <td>'06:56 PM (Aug 21)'</td>\n",
       "      <td>'linear'</td>\n",
       "      <td>0.0010</td>\n",
       "      <td>'syn'</td>\n",
       "      <td>2</td>\n",
       "      <td>8.092326</td>\n",
       "      <td>208.547607</td>\n",
       "      <td>0.000000</td>\n",
       "      <td>0.89765</td>\n",
       "      <td>1.0000</td>\n",
       "      <td>0.75</td>\n",
       "    </tr>\n",
       "    <tr>\n",
       "      <th>2</th>\n",
       "      <td>'06:59 PM (Aug 21)'</td>\n",
       "      <td>'linear'</td>\n",
       "      <td>0.0001</td>\n",
       "      <td>'syn'</td>\n",
       "      <td>2</td>\n",
       "      <td>4.579533</td>\n",
       "      <td>4.851213</td>\n",
       "      <td>1.803854</td>\n",
       "      <td>0.81250</td>\n",
       "      <td>0.8125</td>\n",
       "      <td>0.75</td>\n",
       "    </tr>\n",
       "  </tbody>\n",
       "</table>\n",
       "</div>"
      ],
      "text/plain": [
       "            started_at     model      lr dataset  epoch          loss  \\\n",
       "0  '06:50 PM (Aug 21)'  'linear'  1.0000   'syn'      3  47994.789062   \n",
       "1  '06:56 PM (Aug 21)'  'linear'  0.0010   'syn'      2      8.092326   \n",
       "2  '06:59 PM (Aug 21)'  'linear'  0.0001   'syn'      2      4.579533   \n",
       "\n",
       "      loss (max)  loss (min)      acc  acc (max)  acc (min)  \n",
       "0  213817.625000    0.000000      NaN        NaN        NaN  \n",
       "1     208.547607    0.000000  0.89765     1.0000       0.75  \n",
       "2       4.851213    1.803854  0.81250     0.8125       0.75  "
      ]
     },
     "execution_count": 4,
     "metadata": {},
     "output_type": "execute_result"
    }
   ],
   "source": [
    "rm.get_score_df().head()"
   ]
  },
  {
   "cell_type": "code",
   "execution_count": null,
   "id": "graduate-particle",
   "metadata": {},
   "outputs": [],
   "source": [
    "\n",
    "    !pip install --upgrade git+https://github.com/haven-ai/haven-ai\n",
    "          "
   ]
  }
 ],
 "metadata": {
  "kernelspec": {
   "display_name": "Python 3",
   "language": "python",
   "name": "python3"
  },
  "language_info": {
   "codemirror_mode": {
    "name": "ipython",
    "version": 3
   },
   "file_extension": ".py",
   "mimetype": "text/x-python",
   "name": "python",
   "nbconvert_exporter": "python",
   "pygments_lexer": "ipython3",
   "version": "3.8.5"
  }
 },
 "nbformat": 4,
 "nbformat_minor": 5
}
